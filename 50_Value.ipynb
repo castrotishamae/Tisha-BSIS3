{
  "nbformat": 4,
  "nbformat_minor": 0,
  "metadata": {
    "colab": {
      "provenance": [],
      "authorship_tag": "ABX9TyOHN6/uVgLc7VKqRTPjlMmF",
      "include_colab_link": true
    },
    "kernelspec": {
      "name": "python3",
      "display_name": "Python 3"
    },
    "language_info": {
      "name": "python"
    }
  },
  "cells": [
    {
      "cell_type": "markdown",
      "metadata": {
        "id": "view-in-github",
        "colab_type": "text"
      },
      "source": [
        "<a href=\"https://colab.research.google.com/github/castrotishamae/Tisha-BSIS3/blob/main/50_Value.ipynb\" target=\"_parent\"><img src=\"https://colab.research.google.com/assets/colab-badge.svg\" alt=\"Open In Colab\"/></a>"
      ]
    },
    {
      "cell_type": "code",
      "execution_count": 64,
      "metadata": {
        "id": "-j1Vx-Asrdsv"
      },
      "outputs": [],
      "source": [
        "import pandas as pd"
      ]
    },
    {
      "cell_type": "code",
      "source": [
        "df = pd.read_csv('https://raw.githubusercontent.com/castrotishamae/Tisha-BSIS3/main/employee_dataset_with_missing_values.csv')"
      ],
      "metadata": {
        "id": "gdUXmVx1rqzP"
      },
      "execution_count": 65,
      "outputs": []
    },
    {
      "cell_type": "code",
      "source": [
        "print(\"Original row count\", len(df))"
      ],
      "metadata": {
        "colab": {
          "base_uri": "https://localhost:8080/"
        },
        "id": "UJEMDaB5sAJD",
        "outputId": "7fec9227-8ab0-41de-e09c-00dbd3a34af2"
      },
      "execution_count": 66,
      "outputs": [
        {
          "output_type": "stream",
          "name": "stdout",
          "text": [
            "Original row count 50\n"
          ]
        }
      ]
    },
    {
      "cell_type": "code",
      "source": [
        "df.info()"
      ],
      "metadata": {
        "colab": {
          "base_uri": "https://localhost:8080/"
        },
        "id": "8yQUUPZbsCJu",
        "outputId": "7ffea4b8-d4e5-421b-ee31-7e170df0f4dc"
      },
      "execution_count": 67,
      "outputs": [
        {
          "output_type": "stream",
          "name": "stdout",
          "text": [
            "<class 'pandas.core.frame.DataFrame'>\n",
            "RangeIndex: 50 entries, 0 to 49\n",
            "Data columns (total 4 columns):\n",
            " #   Column      Non-Null Count  Dtype  \n",
            "---  ------      --------------  -----  \n",
            " 0   EmployeeID  50 non-null     int64  \n",
            " 1   Name        45 non-null     object \n",
            " 2   Department  45 non-null     object \n",
            " 3   Salary      45 non-null     float64\n",
            "dtypes: float64(1), int64(1), object(2)\n",
            "memory usage: 1.7+ KB\n"
          ]
        }
      ]
    },
    {
      "cell_type": "code",
      "source": [
        "print(df)"
      ],
      "metadata": {
        "colab": {
          "base_uri": "https://localhost:8080/"
        },
        "id": "RfiiuM1ssJSJ",
        "outputId": "48c0147c-5f3e-4f18-9457-178d60b76605"
      },
      "execution_count": 68,
      "outputs": [
        {
          "output_type": "stream",
          "name": "stdout",
          "text": [
            "    EmployeeID    Name Department   Salary\n",
            "0            1   Quinn      Sales  73733.0\n",
            "1            2    Liam      Sales  30690.0\n",
            "2            3     Ian         IT  74025.0\n",
            "3            4  Sophia         IT  57736.0\n",
            "4            5  Xander         HR  55620.0\n",
            "5            6     NaN    Finance  72981.0\n",
            "6            7  Ursula         IT  41985.0\n",
            "7            8    Sara  Marketing  78720.0\n",
            "8            9     Ian        NaN  77549.0\n",
            "9           10   Laura      Sales      NaN\n",
            "10          11  George    Finance  55611.0\n",
            "11          12    Mike    Finance  35153.0\n",
            "12          13  George    Finance  85946.0\n",
            "13          14     Tom        NaN  57007.0\n",
            "14          15   Quinn  Marketing  63393.0\n",
            "15          16    Gabe      Sales  76883.0\n",
            "16          17  Sophia        NaN      NaN\n",
            "17          18  Sophia    Finance  43608.0\n",
            "18          19   Ethan      Sales  38871.0\n",
            "19          20   Aaron      Sales      NaN\n",
            "20          21  Sophia  Marketing  33962.0\n",
            "21          22    Will         IT  81318.0\n",
            "22          23     Mia         HR  71166.0\n",
            "23          24  Hailey  Marketing  88793.0\n",
            "24          25    Ryan      Sales  87809.0\n",
            "25          26    Dana    Finance  36299.0\n",
            "26          27    Liam      Sales  71857.0\n",
            "27          28   Aaron         IT  44941.0\n",
            "28          29   Quinn    Finance  57655.0\n",
            "29          30    Yara      Sales  63990.0\n",
            "30          31    Liam        NaN  40985.0\n",
            "31          32    Ryan    Finance  74371.0\n",
            "32          33  Victor      Sales  53745.0\n",
            "33          34   Bella         HR  54762.0\n",
            "34          35  Xander      Sales  33660.0\n",
            "35          36    Ryan         HR  83493.0\n",
            "36          37     NaN  Marketing  63843.0\n",
            "37          38     NaN  Marketing  58787.0\n",
            "38          39  Olivia         HR  83617.0\n",
            "39          40   Aaron      Sales  53784.0\n",
            "40          41   Laura    Finance  79364.0\n",
            "41          42  Hannah  Marketing  62265.0\n",
            "42          43     NaN      Sales  84769.0\n",
            "43          44     Tom         IT  75409.0\n",
            "44          45     Uma      Sales  49564.0\n",
            "45          46     NaN    Finance  43140.0\n",
            "46          47   Vince    Finance  40792.0\n",
            "47          48   Peter    Finance      NaN\n",
            "48          49   Ethan      Sales      NaN\n",
            "49          50    John        NaN  44094.0\n"
          ]
        }
      ]
    },
    {
      "cell_type": "code",
      "source": [
        "df[\"EmployeeID\"] = df[\"EmployeeID\"].fillna(\"Unknown\")"
      ],
      "metadata": {
        "id": "7bVTeUoysPwp"
      },
      "execution_count": 43,
      "outputs": []
    },
    {
      "cell_type": "code",
      "source": [
        "df[\"Name\"] = df[\"Name\"].fillna(\"Unknown\")"
      ],
      "metadata": {
        "id": "oUHXgAkr1_vq"
      },
      "execution_count": 44,
      "outputs": []
    },
    {
      "cell_type": "code",
      "source": [
        "df[\"Salary\"] = df[\"Salary\"].fillna(df[\"Salary\"].mean())"
      ],
      "metadata": {
        "id": "V1YPG-Ec4YXt"
      },
      "execution_count": 45,
      "outputs": []
    },
    {
      "cell_type": "code",
      "source": [
        "df[\"Department\"] = df[\"Department\"].fillna(\"Undefined Department\")"
      ],
      "metadata": {
        "id": "wQ-213824rJF"
      },
      "execution_count": 46,
      "outputs": []
    },
    {
      "cell_type": "code",
      "source": [
        "df[\"Salary\"] = df[\"Salary\"].fillna(df[\"Salary\"].mean())"
      ],
      "metadata": {
        "id": "ArzTZOX45Goe"
      },
      "execution_count": 52,
      "outputs": []
    },
    {
      "cell_type": "code",
      "source": [
        "pd.set_option(\"display.max_rows\", None)\n",
        "print(df)"
      ],
      "metadata": {
        "colab": {
          "base_uri": "https://localhost:8080/"
        },
        "id": "Npp3ivfC9zG0",
        "outputId": "8ee12f96-d910-4611-c8aa-c308509d10f0"
      },
      "execution_count": 53,
      "outputs": [
        {
          "output_type": "stream",
          "name": "stdout",
          "text": [
            "    EmployeeID     Name            Department        Salary\n",
            "0            1    Quinn                 Sales  73733.000000\n",
            "1            2     Liam                 Sales  30690.000000\n",
            "2            3      Ian                    IT  74025.000000\n",
            "3            4   Sophia                    IT  57736.000000\n",
            "4            5   Xander                    HR  55620.000000\n",
            "5            6  Unknown               Finance  72981.000000\n",
            "6            7   Ursula                    IT  41985.000000\n",
            "7            8     Sara             Marketing  78720.000000\n",
            "8            9      Ian  Undefined Department  77549.000000\n",
            "9           10    Laura                 Sales  60838.777778\n",
            "10          11   George               Finance  55611.000000\n",
            "11          12     Mike               Finance  35153.000000\n",
            "12          13   George               Finance  85946.000000\n",
            "13          14      Tom  Undefined Department  57007.000000\n",
            "14          15    Quinn             Marketing  63393.000000\n",
            "15          16     Gabe                 Sales  76883.000000\n",
            "16          17   Sophia  Undefined Department  60838.777778\n",
            "17          18   Sophia               Finance  43608.000000\n",
            "18          19    Ethan                 Sales  38871.000000\n",
            "19          20    Aaron                 Sales  60838.777778\n",
            "20          21   Sophia             Marketing  33962.000000\n",
            "21          22     Will                    IT  81318.000000\n",
            "22          23      Mia                    HR  71166.000000\n",
            "23          24   Hailey             Marketing  88793.000000\n",
            "24          25     Ryan                 Sales  87809.000000\n",
            "25          26     Dana               Finance  36299.000000\n",
            "26          27     Liam                 Sales  71857.000000\n",
            "27          28    Aaron                    IT  44941.000000\n",
            "28          29    Quinn               Finance  57655.000000\n",
            "29          30     Yara                 Sales  63990.000000\n",
            "30          31     Liam  Undefined Department  40985.000000\n",
            "31          32     Ryan               Finance  74371.000000\n",
            "32          33   Victor                 Sales  53745.000000\n",
            "33          34    Bella                    HR  54762.000000\n",
            "34          35   Xander                 Sales  33660.000000\n",
            "35          36     Ryan                    HR  83493.000000\n",
            "36          37  Unknown             Marketing  63843.000000\n",
            "37          38  Unknown             Marketing  58787.000000\n",
            "38          39   Olivia                    HR  83617.000000\n",
            "39          40    Aaron                 Sales  53784.000000\n",
            "40          41    Laura               Finance  79364.000000\n",
            "41          42   Hannah             Marketing  62265.000000\n",
            "42          43  Unknown                 Sales  84769.000000\n",
            "43          44      Tom                    IT  75409.000000\n",
            "44          45      Uma                 Sales  49564.000000\n",
            "45          46  Unknown               Finance  43140.000000\n",
            "46          47    Vince               Finance  40792.000000\n",
            "47          48    Peter               Finance  60838.777778\n",
            "48          49    Ethan                 Sales  60838.777778\n",
            "49          50     John  Undefined Department  44094.000000\n"
          ]
        }
      ]
    },
    {
      "cell_type": "code",
      "source": [
        "print(\"Before removing duplicates:\")"
      ],
      "metadata": {
        "colab": {
          "base_uri": "https://localhost:8080/"
        },
        "id": "fazy8GcQ96VX",
        "outputId": "627071c6-6b8a-4085-af09-22bb20946834"
      },
      "execution_count": 54,
      "outputs": [
        {
          "output_type": "stream",
          "name": "stdout",
          "text": [
            "Before removing duplicates:\n"
          ]
        }
      ]
    },
    {
      "cell_type": "code",
      "source": [
        "df = df.drop_duplicates()"
      ],
      "metadata": {
        "id": "mn8AWI7f-BlN"
      },
      "execution_count": 55,
      "outputs": []
    },
    {
      "cell_type": "code",
      "source": [
        "print(\"\\nAfter removing duplicates:\")\n",
        "print(df)"
      ],
      "metadata": {
        "colab": {
          "base_uri": "https://localhost:8080/"
        },
        "id": "sp5Ter3M-NpY",
        "outputId": "0d248fd8-a57c-4cdd-a6e5-3f5becfbe0f5"
      },
      "execution_count": 56,
      "outputs": [
        {
          "output_type": "stream",
          "name": "stdout",
          "text": [
            "\n",
            "After removing duplicates:\n",
            "    EmployeeID     Name            Department        Salary\n",
            "0            1    Quinn                 Sales  73733.000000\n",
            "1            2     Liam                 Sales  30690.000000\n",
            "2            3      Ian                    IT  74025.000000\n",
            "3            4   Sophia                    IT  57736.000000\n",
            "4            5   Xander                    HR  55620.000000\n",
            "5            6  Unknown               Finance  72981.000000\n",
            "6            7   Ursula                    IT  41985.000000\n",
            "7            8     Sara             Marketing  78720.000000\n",
            "8            9      Ian  Undefined Department  77549.000000\n",
            "9           10    Laura                 Sales  60838.777778\n",
            "10          11   George               Finance  55611.000000\n",
            "11          12     Mike               Finance  35153.000000\n",
            "12          13   George               Finance  85946.000000\n",
            "13          14      Tom  Undefined Department  57007.000000\n",
            "14          15    Quinn             Marketing  63393.000000\n",
            "15          16     Gabe                 Sales  76883.000000\n",
            "16          17   Sophia  Undefined Department  60838.777778\n",
            "17          18   Sophia               Finance  43608.000000\n",
            "18          19    Ethan                 Sales  38871.000000\n",
            "19          20    Aaron                 Sales  60838.777778\n",
            "20          21   Sophia             Marketing  33962.000000\n",
            "21          22     Will                    IT  81318.000000\n",
            "22          23      Mia                    HR  71166.000000\n",
            "23          24   Hailey             Marketing  88793.000000\n",
            "24          25     Ryan                 Sales  87809.000000\n",
            "25          26     Dana               Finance  36299.000000\n",
            "26          27     Liam                 Sales  71857.000000\n",
            "27          28    Aaron                    IT  44941.000000\n",
            "28          29    Quinn               Finance  57655.000000\n",
            "29          30     Yara                 Sales  63990.000000\n",
            "30          31     Liam  Undefined Department  40985.000000\n",
            "31          32     Ryan               Finance  74371.000000\n",
            "32          33   Victor                 Sales  53745.000000\n",
            "33          34    Bella                    HR  54762.000000\n",
            "34          35   Xander                 Sales  33660.000000\n",
            "35          36     Ryan                    HR  83493.000000\n",
            "36          37  Unknown             Marketing  63843.000000\n",
            "37          38  Unknown             Marketing  58787.000000\n",
            "38          39   Olivia                    HR  83617.000000\n",
            "39          40    Aaron                 Sales  53784.000000\n",
            "40          41    Laura               Finance  79364.000000\n",
            "41          42   Hannah             Marketing  62265.000000\n",
            "42          43  Unknown                 Sales  84769.000000\n",
            "43          44      Tom                    IT  75409.000000\n",
            "44          45      Uma                 Sales  49564.000000\n",
            "45          46  Unknown               Finance  43140.000000\n",
            "46          47    Vince               Finance  40792.000000\n",
            "47          48    Peter               Finance  60838.777778\n",
            "48          49    Ethan                 Sales  60838.777778\n",
            "49          50     John  Undefined Department  44094.000000\n"
          ]
        }
      ]
    },
    {
      "cell_type": "code",
      "source": [
        "df = df[df['EmployeeID'] != 'Unknown']"
      ],
      "metadata": {
        "id": "82pnoyXc-YXs"
      },
      "execution_count": 58,
      "outputs": []
    },
    {
      "cell_type": "code",
      "source": [
        "df = df[df['Name'] != 'Unknown']"
      ],
      "metadata": {
        "id": "UxpRqGc1-miO"
      },
      "execution_count": 60,
      "outputs": []
    },
    {
      "cell_type": "code",
      "source": [
        "df = df.dropna(subset=['Salary', 'Department', 'Salary'])"
      ],
      "metadata": {
        "id": "hH_N6gSa-mbY"
      },
      "execution_count": 62,
      "outputs": []
    },
    {
      "cell_type": "code",
      "source": [
        "print(\"\\nAfter cleaning:\")\n",
        "print(df)"
      ],
      "metadata": {
        "colab": {
          "base_uri": "https://localhost:8080/"
        },
        "id": "HFAY0N0S_UuU",
        "outputId": "b0927b16-b11a-499e-9784-b5b49fbf441c"
      },
      "execution_count": 63,
      "outputs": [
        {
          "output_type": "stream",
          "name": "stdout",
          "text": [
            "\n",
            "After cleaning:\n",
            "    EmployeeID    Name            Department        Salary\n",
            "0            1   Quinn                 Sales  73733.000000\n",
            "1            2    Liam                 Sales  30690.000000\n",
            "2            3     Ian                    IT  74025.000000\n",
            "3            4  Sophia                    IT  57736.000000\n",
            "4            5  Xander                    HR  55620.000000\n",
            "6            7  Ursula                    IT  41985.000000\n",
            "7            8    Sara             Marketing  78720.000000\n",
            "8            9     Ian  Undefined Department  77549.000000\n",
            "9           10   Laura                 Sales  60838.777778\n",
            "10          11  George               Finance  55611.000000\n",
            "11          12    Mike               Finance  35153.000000\n",
            "12          13  George               Finance  85946.000000\n",
            "13          14     Tom  Undefined Department  57007.000000\n",
            "14          15   Quinn             Marketing  63393.000000\n",
            "15          16    Gabe                 Sales  76883.000000\n",
            "16          17  Sophia  Undefined Department  60838.777778\n",
            "17          18  Sophia               Finance  43608.000000\n",
            "18          19   Ethan                 Sales  38871.000000\n",
            "19          20   Aaron                 Sales  60838.777778\n",
            "20          21  Sophia             Marketing  33962.000000\n",
            "21          22    Will                    IT  81318.000000\n",
            "22          23     Mia                    HR  71166.000000\n",
            "23          24  Hailey             Marketing  88793.000000\n",
            "24          25    Ryan                 Sales  87809.000000\n",
            "25          26    Dana               Finance  36299.000000\n",
            "26          27    Liam                 Sales  71857.000000\n",
            "27          28   Aaron                    IT  44941.000000\n",
            "28          29   Quinn               Finance  57655.000000\n",
            "29          30    Yara                 Sales  63990.000000\n",
            "30          31    Liam  Undefined Department  40985.000000\n",
            "31          32    Ryan               Finance  74371.000000\n",
            "32          33  Victor                 Sales  53745.000000\n",
            "33          34   Bella                    HR  54762.000000\n",
            "34          35  Xander                 Sales  33660.000000\n",
            "35          36    Ryan                    HR  83493.000000\n",
            "38          39  Olivia                    HR  83617.000000\n",
            "39          40   Aaron                 Sales  53784.000000\n",
            "40          41   Laura               Finance  79364.000000\n",
            "41          42  Hannah             Marketing  62265.000000\n",
            "43          44     Tom                    IT  75409.000000\n",
            "44          45     Uma                 Sales  49564.000000\n",
            "46          47   Vince               Finance  40792.000000\n",
            "47          48   Peter               Finance  60838.777778\n",
            "48          49   Ethan                 Sales  60838.777778\n",
            "49          50    John  Undefined Department  44094.000000\n"
          ]
        }
      ]
    }
  ]
}